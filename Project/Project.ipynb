{
 "cells": [
  {
   "cell_type": "markdown",
   "metadata": {
    "toc": true
   },
   "source": [
    "<h1>Содержание<span class=\"tocSkip\"></span></h1>\n",
    "<div class=\"toc\"><ul class=\"toc-item\"><li><span><a href=\"#Подготовка-данных\" data-toc-modified-id=\"Подготовка-данных-1\"><span class=\"toc-item-num\">1&nbsp;&nbsp;</span>Подготовка данных</a></span><ul class=\"toc-item\"><li><span><a href=\"#Извлечение-данных\" data-toc-modified-id=\"Извлечение-данных-1.1\"><span class=\"toc-item-num\">1.1&nbsp;&nbsp;</span>Извлечение данных</a></span></li><li><span><a href=\"#Пропуски\" data-toc-modified-id=\"Пропуски-1.2\"><span class=\"toc-item-num\">1.2&nbsp;&nbsp;</span>Пропуски</a></span></li><li><span><a href=\"#Необходимые-данные\" data-toc-modified-id=\"Необходимые-данные-1.3\"><span class=\"toc-item-num\">1.3&nbsp;&nbsp;</span>Необходимые данные</a></span></li><li><span><a href=\"#Маштабирование-и-кодирование\" data-toc-modified-id=\"Маштабирование-и-кодирование-1.4\"><span class=\"toc-item-num\">1.4&nbsp;&nbsp;</span>Маштабирование и кодирование</a></span></li><li><span><a href=\"#Вывод\" data-toc-modified-id=\"Вывод-1.5\"><span class=\"toc-item-num\">1.5&nbsp;&nbsp;</span>Вывод</a></span></li></ul></li><li><span><a href=\"#Исследование-задачи\" data-toc-modified-id=\"Исследование-задачи-2\"><span class=\"toc-item-num\">2&nbsp;&nbsp;</span>Исследование задачи</a></span><ul class=\"toc-item\"><li><span><a href=\"#Вывод\" data-toc-modified-id=\"Вывод-2.1\"><span class=\"toc-item-num\">2.1&nbsp;&nbsp;</span>Вывод</a></span></li></ul></li><li><span><a href=\"#Борьба-с-дисбалансом\" data-toc-modified-id=\"Борьба-с-дисбалансом-3\"><span class=\"toc-item-num\">3&nbsp;&nbsp;</span>Борьба с дисбалансом</a></span><ul class=\"toc-item\"><li><span><a href=\"#Вывод\" data-toc-modified-id=\"Вывод-3.1\"><span class=\"toc-item-num\">3.1&nbsp;&nbsp;</span>Вывод</a></span></li></ul></li><li><span><a href=\"#Тестирование-модели\" data-toc-modified-id=\"Тестирование-модели-4\"><span class=\"toc-item-num\">4&nbsp;&nbsp;</span>Тестирование модели</a></span><ul class=\"toc-item\"><li><span><a href=\"#Вывод\" data-toc-modified-id=\"Вывод-4.1\"><span class=\"toc-item-num\">4.1&nbsp;&nbsp;</span>Вывод</a></span></li></ul></li><li><span><a href=\"#Вывод\" data-toc-modified-id=\"Вывод-5\"><span class=\"toc-item-num\">5&nbsp;&nbsp;</span>Вывод</a></span></li><li><span><a href=\"#Чек-лист-готовности-проекта\" data-toc-modified-id=\"Чек-лист-готовности-проекта-6\"><span class=\"toc-item-num\">6&nbsp;&nbsp;</span>Чек-лист готовности проекта</a></span></li></ul></div>"
   ]
  },
  {
   "cell_type": "markdown",
   "metadata": {},
   "source": [
    "# Отток клиентов"
   ]
  },
  {
   "cell_type": "markdown",
   "metadata": {},
   "source": [
    "Из «Бета-Банка» стали уходить клиенты. Каждый месяц. Немного, но заметно. Банковские маркетологи посчитали: сохранять текущих клиентов дешевле, чем привлекать новых.\n",
    "\n",
    "Нужно спрогнозировать, уйдёт клиент из банка в ближайшее время или нет. Вам предоставлены исторические данные о поведении клиентов и расторжении договоров с банком. \n",
    "\n",
    "Постройте модель с предельно большим значением *F1*-меры. Чтобы сдать проект успешно, нужно довести метрику до 0.59. Проверьте *F1*-меру на тестовой выборке самостоятельно.\n",
    "\n",
    "Дополнительно измеряйте *AUC-ROC*, сравнивайте её значение с *F1*-мерой.\n",
    "\n",
    "Источник данных: [https://www.kaggle.com/barelydedicated/bank-customer-churn-modeling](https://www.kaggle.com/barelydedicated/bank-customer-churn-modeling)"
   ]
  },
  {
   "cell_type": "markdown",
   "metadata": {},
   "source": [
    "# Описание данных "
   ]
  },
  {
   "cell_type": "markdown",
   "metadata": {},
   "source": [
    "**Признаки**\n",
    "- RowNumber — индекс строки в данных\n",
    "- CustomerId — уникальный идентификатор клиента\n",
    "- Surname — фамилия\n",
    "- CreditScore — кредитный рейтинг\n",
    "- Geography — страна проживания\n",
    "- Gender — пол\n",
    "- Age — возраст\n",
    "- Tenure — сколько лет человек является клиентом банка\n",
    "- Balance — баланс на счёте\n",
    "- NumOfProducts — количество продуктов банка, используемых клиентом\n",
    "- HasCrCard — наличие кредитной карты\n",
    "- IsActiveMember — активность клиента\n",
    "- EstimatedSalary — предполагаемая зарплата  \n",
    "\n",
    "**Целевой признак**\n",
    "- Exited — факт ухода клиента"
   ]
  },
  {
   "cell_type": "markdown",
   "metadata": {},
   "source": [
    "## Подготовка данных"
   ]
  },
  {
   "cell_type": "markdown",
   "metadata": {},
   "source": [
    "### Извлечение данных"
   ]
  },
  {
   "cell_type": "markdown",
   "metadata": {},
   "source": [
    "Как обычно подгружаем необходжимые библиотеки и достаем данные."
   ]
  },
  {
   "cell_type": "code",
   "execution_count": 1,
   "metadata": {},
   "outputs": [],
   "source": [
    "import pandas as pd\n",
    "from sklearn.preprocessing import StandardScaler \n",
    "from sklearn.model_selection import train_test_split\n",
    "from sklearn.model_selection import GridSearchCV\n",
    "from sklearn.ensemble import RandomForestClassifier\n",
    "from sklearn.metrics import roc_curve \n",
    "import matplotlib.pyplot as plt\n",
    "from sklearn.metrics import f1_score\n",
    "from sklearn.metrics import roc_auc_score\n",
    "from sklearn.utils import shuffle\n",
    "from sklearn.linear_model import LogisticRegression\n",
    "import warnings"
   ]
  },
  {
   "cell_type": "code",
   "execution_count": 2,
   "metadata": {},
   "outputs": [],
   "source": [
    "df = pd.read_csv(\"./Churn.csv\")"
   ]
  },
  {
   "cell_type": "markdown",
   "metadata": {},
   "source": [
    "Взгляним на них."
   ]
  },
  {
   "cell_type": "code",
   "execution_count": 3,
   "metadata": {},
   "outputs": [
    {
     "data": {
      "text/html": [
       "<div>\n",
       "<style scoped>\n",
       "    .dataframe tbody tr th:only-of-type {\n",
       "        vertical-align: middle;\n",
       "    }\n",
       "\n",
       "    .dataframe tbody tr th {\n",
       "        vertical-align: top;\n",
       "    }\n",
       "\n",
       "    .dataframe thead th {\n",
       "        text-align: right;\n",
       "    }\n",
       "</style>\n",
       "<table border=\"1\" class=\"dataframe\">\n",
       "  <thead>\n",
       "    <tr style=\"text-align: right;\">\n",
       "      <th></th>\n",
       "      <th>RowNumber</th>\n",
       "      <th>CustomerId</th>\n",
       "      <th>Surname</th>\n",
       "      <th>CreditScore</th>\n",
       "      <th>Geography</th>\n",
       "      <th>Gender</th>\n",
       "      <th>Age</th>\n",
       "      <th>Tenure</th>\n",
       "      <th>Balance</th>\n",
       "      <th>NumOfProducts</th>\n",
       "      <th>HasCrCard</th>\n",
       "      <th>IsActiveMember</th>\n",
       "      <th>EstimatedSalary</th>\n",
       "      <th>Exited</th>\n",
       "    </tr>\n",
       "  </thead>\n",
       "  <tbody>\n",
       "    <tr>\n",
       "      <th>8203</th>\n",
       "      <td>8204</td>\n",
       "      <td>15588566</td>\n",
       "      <td>Wilkinson</td>\n",
       "      <td>778</td>\n",
       "      <td>Spain</td>\n",
       "      <td>Male</td>\n",
       "      <td>33</td>\n",
       "      <td>5.0</td>\n",
       "      <td>116474.28</td>\n",
       "      <td>2</td>\n",
       "      <td>1</td>\n",
       "      <td>1</td>\n",
       "      <td>32757.55</td>\n",
       "      <td>0</td>\n",
       "    </tr>\n",
       "    <tr>\n",
       "      <th>9501</th>\n",
       "      <td>9502</td>\n",
       "      <td>15634146</td>\n",
       "      <td>Hou</td>\n",
       "      <td>835</td>\n",
       "      <td>Germany</td>\n",
       "      <td>Male</td>\n",
       "      <td>18</td>\n",
       "      <td>2.0</td>\n",
       "      <td>142872.36</td>\n",
       "      <td>1</td>\n",
       "      <td>1</td>\n",
       "      <td>1</td>\n",
       "      <td>117632.63</td>\n",
       "      <td>0</td>\n",
       "    </tr>\n",
       "    <tr>\n",
       "      <th>1549</th>\n",
       "      <td>1550</td>\n",
       "      <td>15584364</td>\n",
       "      <td>Trentini</td>\n",
       "      <td>652</td>\n",
       "      <td>France</td>\n",
       "      <td>Male</td>\n",
       "      <td>48</td>\n",
       "      <td>4.0</td>\n",
       "      <td>59486.31</td>\n",
       "      <td>1</td>\n",
       "      <td>1</td>\n",
       "      <td>0</td>\n",
       "      <td>163944.18</td>\n",
       "      <td>1</td>\n",
       "    </tr>\n",
       "    <tr>\n",
       "      <th>6299</th>\n",
       "      <td>6300</td>\n",
       "      <td>15575679</td>\n",
       "      <td>Lori</td>\n",
       "      <td>590</td>\n",
       "      <td>France</td>\n",
       "      <td>Male</td>\n",
       "      <td>24</td>\n",
       "      <td>7.0</td>\n",
       "      <td>126431.54</td>\n",
       "      <td>1</td>\n",
       "      <td>1</td>\n",
       "      <td>0</td>\n",
       "      <td>58781.11</td>\n",
       "      <td>0</td>\n",
       "    </tr>\n",
       "    <tr>\n",
       "      <th>1532</th>\n",
       "      <td>1533</td>\n",
       "      <td>15589660</td>\n",
       "      <td>Lamble</td>\n",
       "      <td>661</td>\n",
       "      <td>Germany</td>\n",
       "      <td>Female</td>\n",
       "      <td>32</td>\n",
       "      <td>1.0</td>\n",
       "      <td>145980.23</td>\n",
       "      <td>1</td>\n",
       "      <td>0</td>\n",
       "      <td>1</td>\n",
       "      <td>56636.28</td>\n",
       "      <td>0</td>\n",
       "    </tr>\n",
       "  </tbody>\n",
       "</table>\n",
       "</div>"
      ],
      "text/plain": [
       "      RowNumber  CustomerId    Surname  CreditScore Geography  Gender  Age  \\\n",
       "8203       8204    15588566  Wilkinson          778     Spain    Male   33   \n",
       "9501       9502    15634146        Hou          835   Germany    Male   18   \n",
       "1549       1550    15584364   Trentini          652    France    Male   48   \n",
       "6299       6300    15575679       Lori          590    France    Male   24   \n",
       "1532       1533    15589660     Lamble          661   Germany  Female   32   \n",
       "\n",
       "      Tenure    Balance  NumOfProducts  HasCrCard  IsActiveMember  \\\n",
       "8203     5.0  116474.28              2          1               1   \n",
       "9501     2.0  142872.36              1          1               1   \n",
       "1549     4.0   59486.31              1          1               0   \n",
       "6299     7.0  126431.54              1          1               0   \n",
       "1532     1.0  145980.23              1          0               1   \n",
       "\n",
       "      EstimatedSalary  Exited  \n",
       "8203         32757.55       0  \n",
       "9501        117632.63       0  \n",
       "1549        163944.18       1  \n",
       "6299         58781.11       0  \n",
       "1532         56636.28       0  "
      ]
     },
     "execution_count": 3,
     "metadata": {},
     "output_type": "execute_result"
    }
   ],
   "source": [
    "df.sample(5)"
   ]
  },
  {
   "cell_type": "code",
   "execution_count": 10,
   "metadata": {
    "scrolled": true
   },
   "outputs": [
    {
     "name": "stdout",
     "output_type": "stream",
     "text": [
      "<class 'pandas.core.frame.DataFrame'>\n",
      "RangeIndex: 10000 entries, 0 to 9999\n",
      "Data columns (total 14 columns):\n",
      " #   Column           Non-Null Count  Dtype  \n",
      "---  ------           --------------  -----  \n",
      " 0   RowNumber        10000 non-null  int64  \n",
      " 1   CustomerId       10000 non-null  int64  \n",
      " 2   Surname          10000 non-null  object \n",
      " 3   CreditScore      10000 non-null  int64  \n",
      " 4   Geography        10000 non-null  object \n",
      " 5   Gender           10000 non-null  object \n",
      " 6   Age              10000 non-null  int64  \n",
      " 7   Tenure           9091 non-null   float64\n",
      " 8   Balance          10000 non-null  float64\n",
      " 9   NumOfProducts    10000 non-null  int64  \n",
      " 10  HasCrCard        10000 non-null  int64  \n",
      " 11  IsActiveMember   10000 non-null  int64  \n",
      " 12  EstimatedSalary  10000 non-null  float64\n",
      " 13  Exited           10000 non-null  int64  \n",
      "dtypes: float64(3), int64(8), object(3)\n",
      "memory usage: 1.1+ MB\n"
     ]
    }
   ],
   "source": [
    "df.info()"
   ]
  },
  {
   "cell_type": "markdown",
   "metadata": {},
   "source": [
    "### Пропуски"
   ]
  },
  {
   "cell_type": "markdown",
   "metadata": {},
   "source": [
    "В столбце \"Tenure\" есть пропуски посмотри связаныли они с чем-то."
   ]
  },
  {
   "cell_type": "code",
   "execution_count": 11,
   "metadata": {
    "scrolled": false
   },
   "outputs": [
    {
     "data": {
      "text/html": [
       "<div>\n",
       "<style scoped>\n",
       "    .dataframe tbody tr th:only-of-type {\n",
       "        vertical-align: middle;\n",
       "    }\n",
       "\n",
       "    .dataframe tbody tr th {\n",
       "        vertical-align: top;\n",
       "    }\n",
       "\n",
       "    .dataframe thead th {\n",
       "        text-align: right;\n",
       "    }\n",
       "</style>\n",
       "<table border=\"1\" class=\"dataframe\">\n",
       "  <thead>\n",
       "    <tr style=\"text-align: right;\">\n",
       "      <th></th>\n",
       "      <th>RowNumber</th>\n",
       "      <th>CustomerId</th>\n",
       "      <th>Surname</th>\n",
       "      <th>CreditScore</th>\n",
       "      <th>Geography</th>\n",
       "      <th>Gender</th>\n",
       "      <th>Age</th>\n",
       "      <th>Tenure</th>\n",
       "      <th>Balance</th>\n",
       "      <th>NumOfProducts</th>\n",
       "      <th>HasCrCard</th>\n",
       "      <th>IsActiveMember</th>\n",
       "      <th>EstimatedSalary</th>\n",
       "      <th>Exited</th>\n",
       "    </tr>\n",
       "  </thead>\n",
       "  <tbody>\n",
       "    <tr>\n",
       "      <th>30</th>\n",
       "      <td>31</td>\n",
       "      <td>15589475</td>\n",
       "      <td>Azikiwe</td>\n",
       "      <td>591</td>\n",
       "      <td>Spain</td>\n",
       "      <td>Female</td>\n",
       "      <td>39</td>\n",
       "      <td>NaN</td>\n",
       "      <td>0.00</td>\n",
       "      <td>3</td>\n",
       "      <td>1</td>\n",
       "      <td>0</td>\n",
       "      <td>140469.38</td>\n",
       "      <td>1</td>\n",
       "    </tr>\n",
       "    <tr>\n",
       "      <th>48</th>\n",
       "      <td>49</td>\n",
       "      <td>15766205</td>\n",
       "      <td>Yin</td>\n",
       "      <td>550</td>\n",
       "      <td>Germany</td>\n",
       "      <td>Male</td>\n",
       "      <td>38</td>\n",
       "      <td>NaN</td>\n",
       "      <td>103391.38</td>\n",
       "      <td>1</td>\n",
       "      <td>0</td>\n",
       "      <td>1</td>\n",
       "      <td>90878.13</td>\n",
       "      <td>0</td>\n",
       "    </tr>\n",
       "    <tr>\n",
       "      <th>51</th>\n",
       "      <td>52</td>\n",
       "      <td>15768193</td>\n",
       "      <td>Trevisani</td>\n",
       "      <td>585</td>\n",
       "      <td>Germany</td>\n",
       "      <td>Male</td>\n",
       "      <td>36</td>\n",
       "      <td>NaN</td>\n",
       "      <td>146050.97</td>\n",
       "      <td>2</td>\n",
       "      <td>0</td>\n",
       "      <td>0</td>\n",
       "      <td>86424.57</td>\n",
       "      <td>0</td>\n",
       "    </tr>\n",
       "    <tr>\n",
       "      <th>53</th>\n",
       "      <td>54</td>\n",
       "      <td>15702298</td>\n",
       "      <td>Parkhill</td>\n",
       "      <td>655</td>\n",
       "      <td>Germany</td>\n",
       "      <td>Male</td>\n",
       "      <td>41</td>\n",
       "      <td>NaN</td>\n",
       "      <td>125561.97</td>\n",
       "      <td>1</td>\n",
       "      <td>0</td>\n",
       "      <td>0</td>\n",
       "      <td>164040.94</td>\n",
       "      <td>1</td>\n",
       "    </tr>\n",
       "    <tr>\n",
       "      <th>60</th>\n",
       "      <td>61</td>\n",
       "      <td>15651280</td>\n",
       "      <td>Hunter</td>\n",
       "      <td>742</td>\n",
       "      <td>Germany</td>\n",
       "      <td>Male</td>\n",
       "      <td>35</td>\n",
       "      <td>NaN</td>\n",
       "      <td>136857.00</td>\n",
       "      <td>1</td>\n",
       "      <td>0</td>\n",
       "      <td>0</td>\n",
       "      <td>84509.57</td>\n",
       "      <td>0</td>\n",
       "    </tr>\n",
       "    <tr>\n",
       "      <th>...</th>\n",
       "      <td>...</td>\n",
       "      <td>...</td>\n",
       "      <td>...</td>\n",
       "      <td>...</td>\n",
       "      <td>...</td>\n",
       "      <td>...</td>\n",
       "      <td>...</td>\n",
       "      <td>...</td>\n",
       "      <td>...</td>\n",
       "      <td>...</td>\n",
       "      <td>...</td>\n",
       "      <td>...</td>\n",
       "      <td>...</td>\n",
       "      <td>...</td>\n",
       "    </tr>\n",
       "    <tr>\n",
       "      <th>9944</th>\n",
       "      <td>9945</td>\n",
       "      <td>15703923</td>\n",
       "      <td>Cameron</td>\n",
       "      <td>744</td>\n",
       "      <td>Germany</td>\n",
       "      <td>Male</td>\n",
       "      <td>41</td>\n",
       "      <td>NaN</td>\n",
       "      <td>190409.34</td>\n",
       "      <td>2</td>\n",
       "      <td>1</td>\n",
       "      <td>1</td>\n",
       "      <td>138361.48</td>\n",
       "      <td>0</td>\n",
       "    </tr>\n",
       "    <tr>\n",
       "      <th>9956</th>\n",
       "      <td>9957</td>\n",
       "      <td>15707861</td>\n",
       "      <td>Nucci</td>\n",
       "      <td>520</td>\n",
       "      <td>France</td>\n",
       "      <td>Female</td>\n",
       "      <td>46</td>\n",
       "      <td>NaN</td>\n",
       "      <td>85216.61</td>\n",
       "      <td>1</td>\n",
       "      <td>1</td>\n",
       "      <td>0</td>\n",
       "      <td>117369.52</td>\n",
       "      <td>1</td>\n",
       "    </tr>\n",
       "    <tr>\n",
       "      <th>9964</th>\n",
       "      <td>9965</td>\n",
       "      <td>15642785</td>\n",
       "      <td>Douglas</td>\n",
       "      <td>479</td>\n",
       "      <td>France</td>\n",
       "      <td>Male</td>\n",
       "      <td>34</td>\n",
       "      <td>NaN</td>\n",
       "      <td>117593.48</td>\n",
       "      <td>2</td>\n",
       "      <td>0</td>\n",
       "      <td>0</td>\n",
       "      <td>113308.29</td>\n",
       "      <td>0</td>\n",
       "    </tr>\n",
       "    <tr>\n",
       "      <th>9985</th>\n",
       "      <td>9986</td>\n",
       "      <td>15586914</td>\n",
       "      <td>Nepean</td>\n",
       "      <td>659</td>\n",
       "      <td>France</td>\n",
       "      <td>Male</td>\n",
       "      <td>36</td>\n",
       "      <td>NaN</td>\n",
       "      <td>123841.49</td>\n",
       "      <td>2</td>\n",
       "      <td>1</td>\n",
       "      <td>0</td>\n",
       "      <td>96833.00</td>\n",
       "      <td>0</td>\n",
       "    </tr>\n",
       "    <tr>\n",
       "      <th>9999</th>\n",
       "      <td>10000</td>\n",
       "      <td>15628319</td>\n",
       "      <td>Walker</td>\n",
       "      <td>792</td>\n",
       "      <td>France</td>\n",
       "      <td>Female</td>\n",
       "      <td>28</td>\n",
       "      <td>NaN</td>\n",
       "      <td>130142.79</td>\n",
       "      <td>1</td>\n",
       "      <td>1</td>\n",
       "      <td>0</td>\n",
       "      <td>38190.78</td>\n",
       "      <td>0</td>\n",
       "    </tr>\n",
       "  </tbody>\n",
       "</table>\n",
       "<p>909 rows × 14 columns</p>\n",
       "</div>"
      ],
      "text/plain": [
       "      RowNumber  CustomerId    Surname  CreditScore Geography  Gender  Age  \\\n",
       "30           31    15589475    Azikiwe          591     Spain  Female   39   \n",
       "48           49    15766205        Yin          550   Germany    Male   38   \n",
       "51           52    15768193  Trevisani          585   Germany    Male   36   \n",
       "53           54    15702298   Parkhill          655   Germany    Male   41   \n",
       "60           61    15651280     Hunter          742   Germany    Male   35   \n",
       "...         ...         ...        ...          ...       ...     ...  ...   \n",
       "9944       9945    15703923    Cameron          744   Germany    Male   41   \n",
       "9956       9957    15707861      Nucci          520    France  Female   46   \n",
       "9964       9965    15642785    Douglas          479    France    Male   34   \n",
       "9985       9986    15586914     Nepean          659    France    Male   36   \n",
       "9999      10000    15628319     Walker          792    France  Female   28   \n",
       "\n",
       "      Tenure    Balance  NumOfProducts  HasCrCard  IsActiveMember  \\\n",
       "30       NaN       0.00              3          1               0   \n",
       "48       NaN  103391.38              1          0               1   \n",
       "51       NaN  146050.97              2          0               0   \n",
       "53       NaN  125561.97              1          0               0   \n",
       "60       NaN  136857.00              1          0               0   \n",
       "...      ...        ...            ...        ...             ...   \n",
       "9944     NaN  190409.34              2          1               1   \n",
       "9956     NaN   85216.61              1          1               0   \n",
       "9964     NaN  117593.48              2          0               0   \n",
       "9985     NaN  123841.49              2          1               0   \n",
       "9999     NaN  130142.79              1          1               0   \n",
       "\n",
       "      EstimatedSalary  Exited  \n",
       "30          140469.38       1  \n",
       "48           90878.13       0  \n",
       "51           86424.57       0  \n",
       "53          164040.94       1  \n",
       "60           84509.57       0  \n",
       "...               ...     ...  \n",
       "9944        138361.48       0  \n",
       "9956        117369.52       1  \n",
       "9964        113308.29       0  \n",
       "9985         96833.00       0  \n",
       "9999         38190.78       0  \n",
       "\n",
       "[909 rows x 14 columns]"
      ]
     },
     "execution_count": 11,
     "metadata": {},
     "output_type": "execute_result"
    }
   ],
   "source": [
    "df.loc[df[\"Tenure\"].isna()] "
   ]
  },
  {
   "cell_type": "markdown",
   "metadata": {},
   "source": [
    "Как видно данный пропуск является скорее всего технической ошибкой и ни как не свявзан с остальными данными. Востановить данный стобец нет возмоности, а заполнять средним или каким-либо другим значением может быть критично для модели, по этому просто отсечем данные строки."
   ]
  },
  {
   "cell_type": "code",
   "execution_count": 12,
   "metadata": {},
   "outputs": [],
   "source": [
    "df = df.loc[df[\"Tenure\"].notna()]"
   ]
  },
  {
   "cell_type": "code",
   "execution_count": 13,
   "metadata": {
    "scrolled": true
   },
   "outputs": [
    {
     "name": "stdout",
     "output_type": "stream",
     "text": [
      "<class 'pandas.core.frame.DataFrame'>\n",
      "Int64Index: 9091 entries, 0 to 9998\n",
      "Data columns (total 14 columns):\n",
      " #   Column           Non-Null Count  Dtype  \n",
      "---  ------           --------------  -----  \n",
      " 0   RowNumber        9091 non-null   int64  \n",
      " 1   CustomerId       9091 non-null   int64  \n",
      " 2   Surname          9091 non-null   object \n",
      " 3   CreditScore      9091 non-null   int64  \n",
      " 4   Geography        9091 non-null   object \n",
      " 5   Gender           9091 non-null   object \n",
      " 6   Age              9091 non-null   int64  \n",
      " 7   Tenure           9091 non-null   float64\n",
      " 8   Balance          9091 non-null   float64\n",
      " 9   NumOfProducts    9091 non-null   int64  \n",
      " 10  HasCrCard        9091 non-null   int64  \n",
      " 11  IsActiveMember   9091 non-null   int64  \n",
      " 12  EstimatedSalary  9091 non-null   float64\n",
      " 13  Exited           9091 non-null   int64  \n",
      "dtypes: float64(3), int64(8), object(3)\n",
      "memory usage: 1.0+ MB\n"
     ]
    }
   ],
   "source": [
    "df.info()"
   ]
  },
  {
   "cell_type": "markdown",
   "metadata": {},
   "source": [
    "### Необходимые данные"
   ]
  },
  {
   "cell_type": "markdown",
   "metadata": {},
   "source": [
    "Теперь для дальнешей работы необходимо оставить нужные столбцы для модели: \n",
    "- CreditScore\n",
    "- Geography\n",
    "- Gender\n",
    "- Age\n",
    "- Tenure\n",
    "- Balance\n",
    "- NumOfProducts\n",
    "- HasCrCard\n",
    "- IsActiveMember\n",
    "- EstimatedSalary\n",
    "- Exited"
   ]
  },
  {
   "cell_type": "markdown",
   "metadata": {},
   "source": [
    "Кажется, что эта информация может повлияет на выбор клиента. "
   ]
  },
  {
   "cell_type": "code",
   "execution_count": 14,
   "metadata": {},
   "outputs": [],
   "source": [
    "df_train = df[[\"CreditScore\",\n",
    "              \"Geography\",\n",
    "              \"Gender\",\n",
    "              \"Age\",\n",
    "              \"Tenure\",\n",
    "              \"Balance\",\n",
    "              \"NumOfProducts\",\n",
    "              \"HasCrCard\",\n",
    "              \"IsActiveMember\",\n",
    "              \"EstimatedSalary\",\n",
    "              \"Exited\"]]"
   ]
  },
  {
   "cell_type": "code",
   "execution_count": 15,
   "metadata": {},
   "outputs": [
    {
     "data": {
      "text/html": [
       "<div>\n",
       "<style scoped>\n",
       "    .dataframe tbody tr th:only-of-type {\n",
       "        vertical-align: middle;\n",
       "    }\n",
       "\n",
       "    .dataframe tbody tr th {\n",
       "        vertical-align: top;\n",
       "    }\n",
       "\n",
       "    .dataframe thead th {\n",
       "        text-align: right;\n",
       "    }\n",
       "</style>\n",
       "<table border=\"1\" class=\"dataframe\">\n",
       "  <thead>\n",
       "    <tr style=\"text-align: right;\">\n",
       "      <th></th>\n",
       "      <th>CreditScore</th>\n",
       "      <th>Geography</th>\n",
       "      <th>Gender</th>\n",
       "      <th>Age</th>\n",
       "      <th>Tenure</th>\n",
       "      <th>Balance</th>\n",
       "      <th>NumOfProducts</th>\n",
       "      <th>HasCrCard</th>\n",
       "      <th>IsActiveMember</th>\n",
       "      <th>EstimatedSalary</th>\n",
       "      <th>Exited</th>\n",
       "    </tr>\n",
       "  </thead>\n",
       "  <tbody>\n",
       "    <tr>\n",
       "      <th>5920</th>\n",
       "      <td>698</td>\n",
       "      <td>France</td>\n",
       "      <td>Male</td>\n",
       "      <td>36</td>\n",
       "      <td>6.0</td>\n",
       "      <td>0.0</td>\n",
       "      <td>2</td>\n",
       "      <td>0</td>\n",
       "      <td>1</td>\n",
       "      <td>19231.98</td>\n",
       "      <td>0</td>\n",
       "    </tr>\n",
       "  </tbody>\n",
       "</table>\n",
       "</div>"
      ],
      "text/plain": [
       "      CreditScore Geography Gender  Age  Tenure  Balance  NumOfProducts  \\\n",
       "5920          698    France   Male   36     6.0      0.0              2   \n",
       "\n",
       "      HasCrCard  IsActiveMember  EstimatedSalary  Exited  \n",
       "5920          0               1         19231.98       0  "
      ]
     },
     "execution_count": 15,
     "metadata": {},
     "output_type": "execute_result"
    }
   ],
   "source": [
    "df_train.sample()"
   ]
  },
  {
   "cell_type": "markdown",
   "metadata": {},
   "source": [
    "### Маштабирование и кодирование"
   ]
  },
  {
   "cell_type": "markdown",
   "metadata": {},
   "source": [
    "Теперь нужно все численные метрики подвести под один маштаб, а категориальные в чилсенные."
   ]
  },
  {
   "cell_type": "code",
   "execution_count": 16,
   "metadata": {},
   "outputs": [],
   "source": [
    "df_train = pd.get_dummies(df_train, drop_first= True)"
   ]
  },
  {
   "cell_type": "code",
   "execution_count": 17,
   "metadata": {},
   "outputs": [
    {
     "data": {
      "text/html": [
       "<div>\n",
       "<style scoped>\n",
       "    .dataframe tbody tr th:only-of-type {\n",
       "        vertical-align: middle;\n",
       "    }\n",
       "\n",
       "    .dataframe tbody tr th {\n",
       "        vertical-align: top;\n",
       "    }\n",
       "\n",
       "    .dataframe thead th {\n",
       "        text-align: right;\n",
       "    }\n",
       "</style>\n",
       "<table border=\"1\" class=\"dataframe\">\n",
       "  <thead>\n",
       "    <tr style=\"text-align: right;\">\n",
       "      <th></th>\n",
       "      <th>CreditScore</th>\n",
       "      <th>Age</th>\n",
       "      <th>Tenure</th>\n",
       "      <th>Balance</th>\n",
       "      <th>NumOfProducts</th>\n",
       "      <th>HasCrCard</th>\n",
       "      <th>IsActiveMember</th>\n",
       "      <th>EstimatedSalary</th>\n",
       "      <th>Exited</th>\n",
       "      <th>Geography_Germany</th>\n",
       "      <th>Geography_Spain</th>\n",
       "      <th>Gender_Male</th>\n",
       "    </tr>\n",
       "  </thead>\n",
       "  <tbody>\n",
       "    <tr>\n",
       "      <th>6316</th>\n",
       "      <td>725</td>\n",
       "      <td>37</td>\n",
       "      <td>6.0</td>\n",
       "      <td>124348.38</td>\n",
       "      <td>2</td>\n",
       "      <td>0</td>\n",
       "      <td>1</td>\n",
       "      <td>176984.34</td>\n",
       "      <td>0</td>\n",
       "      <td>0</td>\n",
       "      <td>0</td>\n",
       "      <td>1</td>\n",
       "    </tr>\n",
       "  </tbody>\n",
       "</table>\n",
       "</div>"
      ],
      "text/plain": [
       "      CreditScore  Age  Tenure    Balance  NumOfProducts  HasCrCard  \\\n",
       "6316          725   37     6.0  124348.38              2          0   \n",
       "\n",
       "      IsActiveMember  EstimatedSalary  Exited  Geography_Germany  \\\n",
       "6316               1        176984.34       0                  0   \n",
       "\n",
       "      Geography_Spain  Gender_Male  \n",
       "6316                0            1  "
      ]
     },
     "execution_count": 17,
     "metadata": {},
     "output_type": "execute_result"
    }
   ],
   "source": [
    "df_train.sample()"
   ]
  },
  {
   "cell_type": "markdown",
   "metadata": {},
   "source": [
    "Категориальыне метрики переведены, теперь займемся численными."
   ]
  },
  {
   "cell_type": "code",
   "execution_count": 18,
   "metadata": {},
   "outputs": [
    {
     "data": {
      "text/html": [
       "<div>\n",
       "<style scoped>\n",
       "    .dataframe tbody tr th:only-of-type {\n",
       "        vertical-align: middle;\n",
       "    }\n",
       "\n",
       "    .dataframe tbody tr th {\n",
       "        vertical-align: top;\n",
       "    }\n",
       "\n",
       "    .dataframe thead th {\n",
       "        text-align: right;\n",
       "    }\n",
       "</style>\n",
       "<table border=\"1\" class=\"dataframe\">\n",
       "  <thead>\n",
       "    <tr style=\"text-align: right;\">\n",
       "      <th></th>\n",
       "      <th>CreditScore</th>\n",
       "      <th>Age</th>\n",
       "      <th>Tenure</th>\n",
       "      <th>Balance</th>\n",
       "      <th>NumOfProducts</th>\n",
       "      <th>HasCrCard</th>\n",
       "      <th>IsActiveMember</th>\n",
       "      <th>EstimatedSalary</th>\n",
       "      <th>Exited</th>\n",
       "      <th>Geography_Germany</th>\n",
       "      <th>Geography_Spain</th>\n",
       "      <th>Gender_Male</th>\n",
       "    </tr>\n",
       "  </thead>\n",
       "  <tbody>\n",
       "    <tr>\n",
       "      <th>4547</th>\n",
       "      <td>2.066937</td>\n",
       "      <td>-0.184669</td>\n",
       "      <td>1.382699</td>\n",
       "      <td>0.737791</td>\n",
       "      <td>-0.912601</td>\n",
       "      <td>0</td>\n",
       "      <td>1</td>\n",
       "      <td>1.727003</td>\n",
       "      <td>1</td>\n",
       "      <td>1</td>\n",
       "      <td>0</td>\n",
       "      <td>1</td>\n",
       "    </tr>\n",
       "  </tbody>\n",
       "</table>\n",
       "</div>"
      ],
      "text/plain": [
       "      CreditScore       Age    Tenure   Balance  NumOfProducts  HasCrCard  \\\n",
       "4547     2.066937 -0.184669  1.382699  0.737791      -0.912601          0   \n",
       "\n",
       "      IsActiveMember  EstimatedSalary  Exited  Geography_Germany  \\\n",
       "4547               1         1.727003       1                  1   \n",
       "\n",
       "      Geography_Spain  Gender_Male  \n",
       "4547                0            1  "
      ]
     },
     "execution_count": 18,
     "metadata": {},
     "output_type": "execute_result"
    }
   ],
   "source": [
    "column = [\"CreditScore\",\"Tenure\", \"Age\", \"Balance\", \"NumOfProducts\", \"EstimatedSalary\"]\n",
    "scaler = StandardScaler().fit(df_train[column])\n",
    "df_train[column] = scaler.transform(df_train[column])\n",
    "df_train.sample()"
   ]
  },
  {
   "cell_type": "markdown",
   "metadata": {},
   "source": [
    "Теперь данные готовы для дальнейшей работы."
   ]
  },
  {
   "cell_type": "markdown",
   "metadata": {},
   "source": [
    "### Вывод"
   ]
  },
  {
   "cell_type": "markdown",
   "metadata": {},
   "source": [
    "Полностью предобработали данные для дальнейшего их деления на выборки и обучение моделей"
   ]
  },
  {
   "cell_type": "markdown",
   "metadata": {},
   "source": [
    "## Исследование задачи"
   ]
  },
  {
   "cell_type": "markdown",
   "metadata": {},
   "source": [
    "Поделим выборки на тренировочную и тестовую. Валидационная не понадобится так-как будем использовать GridSearchCV там есть кроссвалидация"
   ]
  },
  {
   "cell_type": "code",
   "execution_count": 19,
   "metadata": {},
   "outputs": [],
   "source": [
    "train, test = train_test_split(df_train, test_size=.25, random_state=46812)"
   ]
  },
  {
   "cell_type": "code",
   "execution_count": 20,
   "metadata": {},
   "outputs": [
    {
     "name": "stdout",
     "output_type": "stream",
     "text": [
      "<class 'pandas.core.frame.DataFrame'>\n",
      "Int64Index: 6818 entries, 382 to 6261\n",
      "Data columns (total 12 columns):\n",
      " #   Column             Non-Null Count  Dtype  \n",
      "---  ------             --------------  -----  \n",
      " 0   CreditScore        6818 non-null   float64\n",
      " 1   Age                6818 non-null   float64\n",
      " 2   Tenure             6818 non-null   float64\n",
      " 3   Balance            6818 non-null   float64\n",
      " 4   NumOfProducts      6818 non-null   float64\n",
      " 5   HasCrCard          6818 non-null   int64  \n",
      " 6   IsActiveMember     6818 non-null   int64  \n",
      " 7   EstimatedSalary    6818 non-null   float64\n",
      " 8   Exited             6818 non-null   int64  \n",
      " 9   Geography_Germany  6818 non-null   uint8  \n",
      " 10  Geography_Spain    6818 non-null   uint8  \n",
      " 11  Gender_Male        6818 non-null   uint8  \n",
      "dtypes: float64(6), int64(3), uint8(3)\n",
      "memory usage: 552.6 KB\n"
     ]
    },
    {
     "data": {
      "text/plain": [
       "None"
      ]
     },
     "metadata": {},
     "output_type": "display_data"
    },
    {
     "data": {
      "text/html": [
       "<div>\n",
       "<style scoped>\n",
       "    .dataframe tbody tr th:only-of-type {\n",
       "        vertical-align: middle;\n",
       "    }\n",
       "\n",
       "    .dataframe tbody tr th {\n",
       "        vertical-align: top;\n",
       "    }\n",
       "\n",
       "    .dataframe thead th {\n",
       "        text-align: right;\n",
       "    }\n",
       "</style>\n",
       "<table border=\"1\" class=\"dataframe\">\n",
       "  <thead>\n",
       "    <tr style=\"text-align: right;\">\n",
       "      <th></th>\n",
       "      <th>CreditScore</th>\n",
       "      <th>Age</th>\n",
       "      <th>Tenure</th>\n",
       "      <th>Balance</th>\n",
       "      <th>NumOfProducts</th>\n",
       "      <th>HasCrCard</th>\n",
       "      <th>IsActiveMember</th>\n",
       "      <th>EstimatedSalary</th>\n",
       "      <th>Exited</th>\n",
       "      <th>Geography_Germany</th>\n",
       "      <th>Geography_Spain</th>\n",
       "      <th>Gender_Male</th>\n",
       "    </tr>\n",
       "  </thead>\n",
       "  <tbody>\n",
       "    <tr>\n",
       "      <th>7654</th>\n",
       "      <td>-0.381064</td>\n",
       "      <td>-0.089927</td>\n",
       "      <td>-0.344677</td>\n",
       "      <td>-0.063035</td>\n",
       "      <td>-0.912601</td>\n",
       "      <td>1</td>\n",
       "      <td>1</td>\n",
       "      <td>-0.418918</td>\n",
       "      <td>0</td>\n",
       "      <td>0</td>\n",
       "      <td>0</td>\n",
       "      <td>0</td>\n",
       "    </tr>\n",
       "    <tr>\n",
       "      <th>6350</th>\n",
       "      <td>-0.111369</td>\n",
       "      <td>0.857491</td>\n",
       "      <td>-1.381103</td>\n",
       "      <td>0.562791</td>\n",
       "      <td>-0.912601</td>\n",
       "      <td>0</td>\n",
       "      <td>1</td>\n",
       "      <td>0.621544</td>\n",
       "      <td>0</td>\n",
       "      <td>1</td>\n",
       "      <td>0</td>\n",
       "      <td>1</td>\n",
       "    </tr>\n",
       "    <tr>\n",
       "      <th>7349</th>\n",
       "      <td>-0.194352</td>\n",
       "      <td>0.289040</td>\n",
       "      <td>0.346273</td>\n",
       "      <td>-0.265547</td>\n",
       "      <td>0.808655</td>\n",
       "      <td>0</td>\n",
       "      <td>1</td>\n",
       "      <td>0.832878</td>\n",
       "      <td>0</td>\n",
       "      <td>1</td>\n",
       "      <td>0</td>\n",
       "      <td>1</td>\n",
       "    </tr>\n",
       "  </tbody>\n",
       "</table>\n",
       "</div>"
      ],
      "text/plain": [
       "      CreditScore       Age    Tenure   Balance  NumOfProducts  HasCrCard  \\\n",
       "7654    -0.381064 -0.089927 -0.344677 -0.063035      -0.912601          1   \n",
       "6350    -0.111369  0.857491 -1.381103  0.562791      -0.912601          0   \n",
       "7349    -0.194352  0.289040  0.346273 -0.265547       0.808655          0   \n",
       "\n",
       "      IsActiveMember  EstimatedSalary  Exited  Geography_Germany  \\\n",
       "7654               1        -0.418918       0                  0   \n",
       "6350               1         0.621544       0                  1   \n",
       "7349               1         0.832878       0                  1   \n",
       "\n",
       "      Geography_Spain  Gender_Male  \n",
       "7654                0            0  \n",
       "6350                0            1  \n",
       "7349                0            1  "
      ]
     },
     "execution_count": 20,
     "metadata": {},
     "output_type": "execute_result"
    }
   ],
   "source": [
    "display(train.info())\n",
    "train.sample(3)"
   ]
  },
  {
   "cell_type": "code",
   "execution_count": 21,
   "metadata": {},
   "outputs": [
    {
     "name": "stdout",
     "output_type": "stream",
     "text": [
      "<class 'pandas.core.frame.DataFrame'>\n",
      "Int64Index: 2273 entries, 3433 to 5742\n",
      "Data columns (total 12 columns):\n",
      " #   Column             Non-Null Count  Dtype  \n",
      "---  ------             --------------  -----  \n",
      " 0   CreditScore        2273 non-null   float64\n",
      " 1   Age                2273 non-null   float64\n",
      " 2   Tenure             2273 non-null   float64\n",
      " 3   Balance            2273 non-null   float64\n",
      " 4   NumOfProducts      2273 non-null   float64\n",
      " 5   HasCrCard          2273 non-null   int64  \n",
      " 6   IsActiveMember     2273 non-null   int64  \n",
      " 7   EstimatedSalary    2273 non-null   float64\n",
      " 8   Exited             2273 non-null   int64  \n",
      " 9   Geography_Germany  2273 non-null   uint8  \n",
      " 10  Geography_Spain    2273 non-null   uint8  \n",
      " 11  Gender_Male        2273 non-null   uint8  \n",
      "dtypes: float64(6), int64(3), uint8(3)\n",
      "memory usage: 184.2 KB\n"
     ]
    },
    {
     "data": {
      "text/plain": [
       "None"
      ]
     },
     "metadata": {},
     "output_type": "display_data"
    },
    {
     "data": {
      "text/html": [
       "<div>\n",
       "<style scoped>\n",
       "    .dataframe tbody tr th:only-of-type {\n",
       "        vertical-align: middle;\n",
       "    }\n",
       "\n",
       "    .dataframe tbody tr th {\n",
       "        vertical-align: top;\n",
       "    }\n",
       "\n",
       "    .dataframe thead th {\n",
       "        text-align: right;\n",
       "    }\n",
       "</style>\n",
       "<table border=\"1\" class=\"dataframe\">\n",
       "  <thead>\n",
       "    <tr style=\"text-align: right;\">\n",
       "      <th></th>\n",
       "      <th>CreditScore</th>\n",
       "      <th>Age</th>\n",
       "      <th>Tenure</th>\n",
       "      <th>Balance</th>\n",
       "      <th>NumOfProducts</th>\n",
       "      <th>HasCrCard</th>\n",
       "      <th>IsActiveMember</th>\n",
       "      <th>EstimatedSalary</th>\n",
       "      <th>Exited</th>\n",
       "      <th>Geography_Germany</th>\n",
       "      <th>Geography_Spain</th>\n",
       "      <th>Gender_Male</th>\n",
       "    </tr>\n",
       "  </thead>\n",
       "  <tbody>\n",
       "    <tr>\n",
       "      <th>911</th>\n",
       "      <td>-0.028386</td>\n",
       "      <td>1.331200</td>\n",
       "      <td>0.346273</td>\n",
       "      <td>0.556407</td>\n",
       "      <td>-0.912601</td>\n",
       "      <td>1</td>\n",
       "      <td>1</td>\n",
       "      <td>0.370713</td>\n",
       "      <td>0</td>\n",
       "      <td>0</td>\n",
       "      <td>1</td>\n",
       "      <td>0</td>\n",
       "    </tr>\n",
       "    <tr>\n",
       "      <th>9170</th>\n",
       "      <td>0.448767</td>\n",
       "      <td>-0.847862</td>\n",
       "      <td>-1.035627</td>\n",
       "      <td>-1.227780</td>\n",
       "      <td>2.529911</td>\n",
       "      <td>0</td>\n",
       "      <td>1</td>\n",
       "      <td>-1.477603</td>\n",
       "      <td>0</td>\n",
       "      <td>0</td>\n",
       "      <td>0</td>\n",
       "      <td>1</td>\n",
       "    </tr>\n",
       "    <tr>\n",
       "      <th>8872</th>\n",
       "      <td>0.355411</td>\n",
       "      <td>-0.847862</td>\n",
       "      <td>-1.035627</td>\n",
       "      <td>-1.227780</td>\n",
       "      <td>0.808655</td>\n",
       "      <td>1</td>\n",
       "      <td>1</td>\n",
       "      <td>0.706473</td>\n",
       "      <td>0</td>\n",
       "      <td>0</td>\n",
       "      <td>0</td>\n",
       "      <td>1</td>\n",
       "    </tr>\n",
       "  </tbody>\n",
       "</table>\n",
       "</div>"
      ],
      "text/plain": [
       "      CreditScore       Age    Tenure   Balance  NumOfProducts  HasCrCard  \\\n",
       "911     -0.028386  1.331200  0.346273  0.556407      -0.912601          1   \n",
       "9170     0.448767 -0.847862 -1.035627 -1.227780       2.529911          0   \n",
       "8872     0.355411 -0.847862 -1.035627 -1.227780       0.808655          1   \n",
       "\n",
       "      IsActiveMember  EstimatedSalary  Exited  Geography_Germany  \\\n",
       "911                1         0.370713       0                  0   \n",
       "9170               1        -1.477603       0                  0   \n",
       "8872               1         0.706473       0                  0   \n",
       "\n",
       "      Geography_Spain  Gender_Male  \n",
       "911                 1            0  \n",
       "9170                0            1  \n",
       "8872                0            1  "
      ]
     },
     "execution_count": 21,
     "metadata": {},
     "output_type": "execute_result"
    }
   ],
   "source": [
    "display(test.info())\n",
    "test.sample(3)"
   ]
  },
  {
   "cell_type": "markdown",
   "metadata": {},
   "source": [
    "Получили две выборки теперь нужно отделить ответы от фичей."
   ]
  },
  {
   "cell_type": "code",
   "execution_count": 22,
   "metadata": {},
   "outputs": [],
   "source": [
    "train_features = train.drop([\"Exited\"], axis= 1)\n",
    "train_answers = train[\"Exited\"]\n",
    "test_features = test.drop([\"Exited\"], axis= 1)\n",
    "test_answers = test[\"Exited\"]"
   ]
  },
  {
   "cell_type": "markdown",
   "metadata": {},
   "source": [
    "Теперь можно обучать модель."
   ]
  },
  {
   "cell_type": "code",
   "execution_count": 23,
   "metadata": {},
   "outputs": [
    {
     "name": "stdout",
     "output_type": "stream",
     "text": [
      "CPU times: user 2min 17s, sys: 748 ms, total: 2min 17s\n",
      "Wall time: 2min 18s\n"
     ]
    },
    {
     "data": {
      "text/plain": [
       "{'max_depth': 13,\n",
       " 'min_samples_leaf': 6,\n",
       " 'min_samples_split': 2,\n",
       " 'n_estimators': 100}"
      ]
     },
     "execution_count": 23,
     "metadata": {},
     "output_type": "execute_result"
    }
   ],
   "source": [
    "%%time\n",
    "parametrs = { 'max_depth': range (5,15, 2),\n",
    "              'min_samples_leaf': range (5,8),\n",
    "              'min_samples_split': range (2,10,2),\n",
    "              'n_estimators' : [100]}\n",
    "model_forest = GridSearchCV(RandomForestClassifier(random_state=46812), parametrs)\n",
    "model_forest.fit(train_features, train_answers)\n",
    "model_forest.best_params_"
   ]
  },
  {
   "cell_type": "code",
   "execution_count": 24,
   "metadata": {},
   "outputs": [
    {
     "data": {
      "text/plain": [
       "0.8621316829574232"
      ]
     },
     "execution_count": 24,
     "metadata": {},
     "output_type": "execute_result"
    }
   ],
   "source": [
    "model_forest.best_score_"
   ]
  },
  {
   "cell_type": "markdown",
   "metadata": {},
   "source": [
    "Есть модель которая предсказывает результат в 86% случаев, достаточно хороший показатель. Нужно теперь оценить ее качество."
   ]
  },
  {
   "cell_type": "code",
   "execution_count": 25,
   "metadata": {},
   "outputs": [
    {
     "data": {
      "text/plain": [
       "0.550932568149211"
      ]
     },
     "execution_count": 25,
     "metadata": {},
     "output_type": "execute_result"
    }
   ],
   "source": [
    "f1_score(test_answers, model_forest.predict(test_features))"
   ]
  },
  {
   "cell_type": "markdown",
   "metadata": {},
   "source": [
    "F1 метрика показала 0.55 результат мягко говоря не очень нужно понять в чем дело."
   ]
  },
  {
   "cell_type": "code",
   "execution_count": 26,
   "metadata": {},
   "outputs": [
    {
     "data": {
      "text/plain": [
       "0    7237\n",
       "1    1854\n",
       "Name: Exited, dtype: int64"
      ]
     },
     "execution_count": 26,
     "metadata": {},
     "output_type": "execute_result"
    }
   ],
   "source": [
    "df_train[\"Exited\"].value_counts()"
   ]
  },
  {
   "cell_type": "markdown",
   "metadata": {},
   "source": [
    "Большой дисбаланс классов. 0-ых почти в 4 раза больше чем 1-ых."
   ]
  },
  {
   "cell_type": "markdown",
   "metadata": {},
   "source": [
    "### Вывод"
   ]
  },
  {
   "cell_type": "markdown",
   "metadata": {},
   "source": [
    "Данные имеют дисбаланс и нужно это исправить"
   ]
  },
  {
   "cell_type": "markdown",
   "metadata": {},
   "source": [
    "## Борьба с дисбалансом"
   ]
  },
  {
   "cell_type": "markdown",
   "metadata": {},
   "source": [
    "Самый простой способ - это использовать аргумент class_weight='balanced' посмотрм что с ним можно получить."
   ]
  },
  {
   "cell_type": "code",
   "execution_count": 27,
   "metadata": {},
   "outputs": [
    {
     "name": "stdout",
     "output_type": "stream",
     "text": [
      "CPU times: user 2min 15s, sys: 444 ms, total: 2min 15s\n",
      "Wall time: 2min 15s\n"
     ]
    },
    {
     "data": {
      "text/plain": [
       "{'max_depth': 13,\n",
       " 'min_samples_leaf': 5,\n",
       " 'min_samples_split': 2,\n",
       " 'n_estimators': 100}"
      ]
     },
     "execution_count": 27,
     "metadata": {},
     "output_type": "execute_result"
    }
   ],
   "source": [
    "%%time\n",
    "parametrs = { 'max_depth': range (5,15, 2),\n",
    "              'min_samples_leaf': range (5,8),\n",
    "              'min_samples_split': range (2,10,2),\n",
    "              'n_estimators' : [100]}\n",
    "model_forest = GridSearchCV(RandomForestClassifier(random_state=46812, class_weight='balanced'), parametrs)\n",
    "model_forest.fit(train_features, train_answers)\n",
    "model_forest.best_params_"
   ]
  },
  {
   "cell_type": "code",
   "execution_count": 28,
   "metadata": {},
   "outputs": [
    {
     "data": {
      "text/plain": [
       "0.8440905756019476"
      ]
     },
     "execution_count": 28,
     "metadata": {},
     "output_type": "execute_result"
    }
   ],
   "source": [
    "model_forest.best_score_"
   ]
  },
  {
   "cell_type": "code",
   "execution_count": 29,
   "metadata": {
    "scrolled": true
   },
   "outputs": [
    {
     "data": {
      "image/png": "[encoded data removed]",
      "text/plain": [
       "<Figure size 432x288 with 1 Axes>"
      ]
     },
     "metadata": {
      "needs_background": "light"
     },
     "output_type": "display_data"
    },
    {
     "data": {
      "text/plain": [
       "0.8726169128116905"
      ]
     },
     "execution_count": 29,
     "metadata": {},
     "output_type": "execute_result"
    }
   ],
   "source": [
    "probabilities_valid = model_forest.predict_proba(test_features)\n",
    "probabilities_one_valid = probabilities_valid[:, 1]\n",
    "\n",
    "fpr, tpr, thresholds = roc_curve(test_answers, probabilities_one_valid) \n",
    "plt.figure()\n",
    "plt.plot(fpr, tpr)\n",
    "\n",
    "plt.plot([0, 1], [0, 1], linestyle='--')\n",
    "\n",
    "plt.xlim([0.0, 1.0])\n",
    "plt.ylim([0.0, 1.0])\n",
    "\n",
    "plt.xlabel(\"False Positive Rate\")\n",
    "plt.ylabel(\"True Positive Rate\")\n",
    "\n",
    "plt.title(\"ROC-кривая\")\n",
    "\n",
    "plt.show()\n",
    "roc_auc_score(test_answers, probabilities_one_valid)"
   ]
  },
  {
   "cell_type": "code",
   "execution_count": 30,
   "metadata": {},
   "outputs": [
    {
     "data": {
      "text/plain": [
       "0.6205450733752621"
      ]
     },
     "execution_count": 30,
     "metadata": {},
     "output_type": "execute_result"
    }
   ],
   "source": [
    "f1_score(test_answers, model_forest.predict(test_features))"
   ]
  },
  {
   "cell_type": "markdown",
   "metadata": {},
   "source": [
    "Уже лучше, поробуем теперь дропнуть часть нулевых строк"
   ]
  },
  {
   "cell_type": "code",
   "execution_count": 31,
   "metadata": {},
   "outputs": [],
   "source": [
    "def downsample(features, target, fraction):\n",
    "    features_zeros = features[target == 0]\n",
    "    features_ones = features[target == 1]\n",
    "    target_zeros = target[target == 0]\n",
    "    target_ones = target[target == 1]\n",
    "\n",
    "    features_downsampled = pd.concat(\n",
    "        [features_zeros.sample(frac=fraction, random_state=12345)] + [features_ones])\n",
    "    target_downsampled = pd.concat(\n",
    "        [target_zeros.sample(frac=fraction, random_state=12345)] + [target_ones])\n",
    "    \n",
    "    features_downsampled, target_downsampled = shuffle(\n",
    "        features_downsampled, target_downsampled, random_state=12345)\n",
    "    \n",
    "    return features_downsampled, target_downsampled"
   ]
  },
  {
   "cell_type": "code",
   "execution_count": 32,
   "metadata": {},
   "outputs": [],
   "source": [
    "features_downsampled, target_downsampled = downsample(train_features, train_answers, 0.25)"
   ]
  },
  {
   "cell_type": "code",
   "execution_count": 33,
   "metadata": {},
   "outputs": [
    {
     "name": "stdout",
     "output_type": "stream",
     "text": [
      "CPU times: user 1min 14s, sys: 436 ms, total: 1min 15s\n",
      "Wall time: 1min 15s\n"
     ]
    },
    {
     "data": {
      "text/plain": [
       "{'max_depth': 13,\n",
       " 'min_samples_leaf': 5,\n",
       " 'min_samples_split': 2,\n",
       " 'n_estimators': 100}"
      ]
     },
     "execution_count": 33,
     "metadata": {},
     "output_type": "execute_result"
    }
   ],
   "source": [
    "%%time\n",
    "parametrs = { 'max_depth': range (5,15, 2),\n",
    "              'min_samples_leaf': range (5,8),\n",
    "              'min_samples_split': range (2,10,2),\n",
    "              'n_estimators' : [100]}\n",
    "model_forest = GridSearchCV(RandomForestClassifier(random_state=46812), parametrs)\n",
    "model_forest.fit(features_downsampled, target_downsampled)\n",
    "model_forest.best_params_"
   ]
  },
  {
   "cell_type": "code",
   "execution_count": 34,
   "metadata": {
    "scrolled": true
   },
   "outputs": [
    {
     "data": {
      "image/png": "[encoded data removed]",
      "text/plain": [
       "<Figure size 432x288 with 1 Axes>"
      ]
     },
     "metadata": {
      "needs_background": "light"
     },
     "output_type": "display_data"
    },
    {
     "data": {
      "text/plain": [
       "0.8703291977081542"
      ]
     },
     "execution_count": 34,
     "metadata": {},
     "output_type": "execute_result"
    }
   ],
   "source": [
    "probabilities_valid = model_forest.predict_proba(test_features)\n",
    "probabilities_one_valid = probabilities_valid[:, 1]\n",
    "\n",
    "fpr, tpr, thresholds = roc_curve(test_answers, probabilities_one_valid) \n",
    "plt.figure()\n",
    "plt.plot(fpr, tpr)\n",
    "\n",
    "plt.plot([0, 1], [0, 1], linestyle='--')\n",
    "\n",
    "plt.xlim([0.0, 1.0])\n",
    "plt.ylim([0.0, 1.0])\n",
    "\n",
    "plt.xlabel(\"False Positive Rate\")\n",
    "plt.ylabel(\"True Positive Rate\")\n",
    "\n",
    "plt.title(\"ROC-кривая\")\n",
    "\n",
    "plt.show()\n",
    "roc_auc_score(test_answers, probabilities_one_valid)"
   ]
  },
  {
   "cell_type": "code",
   "execution_count": 35,
   "metadata": {},
   "outputs": [
    {
     "data": {
      "text/plain": [
       "0.5980066445182725"
      ]
     },
     "execution_count": 35,
     "metadata": {},
     "output_type": "execute_result"
    }
   ],
   "source": [
    "f1_score(test_answers, model_forest.predict(test_features))"
   ]
  },
  {
   "cell_type": "markdown",
   "metadata": {},
   "source": [
    "Рещультат хуже, значит будем использовать веса."
   ]
  },
  {
   "cell_type": "markdown",
   "metadata": {},
   "source": [
    "Применять метод с добавлением строк к 1-ым считаю не удачной затеей, по скольку нельзя бюыть точно увереным в том что мы дабавляем \"хорошие\" строки."
   ]
  },
  {
   "cell_type": "markdown",
   "metadata": {},
   "source": [
    "### Вывод"
   ]
  },
  {
   "cell_type": "markdown",
   "metadata": {},
   "source": [
    "Проведя не большую аналитику выяснили, что целевой столбец имеет дисбаланс классов, по этому применили два метода для балансировки. Лучше всего подошел вариант с весами, при нем f1 метрика показала результат 0.62, AUC-ROC 0.87 не идеально но лучше чем было изначально."
   ]
  },
  {
   "cell_type": "markdown",
   "metadata": {},
   "source": [
    "## Тестирование модели"
   ]
  },
  {
   "cell_type": "markdown",
   "metadata": {},
   "source": [
    "Теперь подберем пару моделей для решения поставленой задачи. Для пробы возьмем случайный лес и логистическую модель."
   ]
  },
  {
   "cell_type": "code",
   "execution_count": 36,
   "metadata": {},
   "outputs": [
    {
     "name": "stdout",
     "output_type": "stream",
     "text": [
      "CPU times: user 10min 22s, sys: 2.36 s, total: 10min 24s\n",
      "Wall time: 10min 25s\n"
     ]
    },
    {
     "data": {
      "text/plain": [
       "{'max_depth': 13,\n",
       " 'min_samples_leaf': 5,\n",
       " 'min_samples_split': 2,\n",
       " 'n_estimators': 90}"
      ]
     },
     "execution_count": 36,
     "metadata": {},
     "output_type": "execute_result"
    }
   ],
   "source": [
    "%%time\n",
    "parametrs = { 'max_depth': range (5,15, 2),\n",
    "              'min_samples_leaf': range (5,8),\n",
    "              'min_samples_split': range (2,10,2),\n",
    "              'n_estimators' : range(50,150,20)}\n",
    "model_forest = GridSearchCV(RandomForestClassifier(random_state=46812, class_weight='balanced'), parametrs)\n",
    "model_forest.fit(train_features, train_answers)\n",
    "model_forest.best_params_"
   ]
  },
  {
   "cell_type": "code",
   "execution_count": 37,
   "metadata": {},
   "outputs": [
    {
     "data": {
      "text/plain": [
       "0.8443841534651655"
      ]
     },
     "execution_count": 37,
     "metadata": {},
     "output_type": "execute_result"
    }
   ],
   "source": [
    "model_forest.best_score_"
   ]
  },
  {
   "cell_type": "code",
   "execution_count": 38,
   "metadata": {
    "scrolled": true
   },
   "outputs": [
    {
     "data": {
      "text/plain": [
       "0.6142557651991615"
      ]
     },
     "execution_count": 38,
     "metadata": {},
     "output_type": "execute_result"
    }
   ],
   "source": [
    "f1_score(test_answers, model_forest.predict(test_features))"
   ]
  },
  {
   "cell_type": "code",
   "execution_count": 39,
   "metadata": {},
   "outputs": [
    {
     "data": {
      "image/png": "[encoded data removed]",
      "text/plain": [
       "<Figure size 432x288 with 1 Axes>"
      ]
     },
     "metadata": {
      "needs_background": "light"
     },
     "output_type": "display_data"
    },
    {
     "data": {
      "text/plain": [
       "0.8727128923619716"
      ]
     },
     "execution_count": 39,
     "metadata": {},
     "output_type": "execute_result"
    }
   ],
   "source": [
    "probabilities_valid = model_forest.predict_proba(test_features)\n",
    "probabilities_one_valid = probabilities_valid[:, 1]\n",
    "\n",
    "fpr, tpr, thresholds = roc_curve(test_answers, probabilities_one_valid) \n",
    "plt.figure()\n",
    "plt.plot(fpr, tpr)\n",
    "\n",
    "plt.plot([0, 1], [0, 1], linestyle='--')\n",
    "\n",
    "plt.xlim([0.0, 1.0])\n",
    "plt.ylim([0.0, 1.0])\n",
    "\n",
    "plt.xlabel(\"False Positive Rate\")\n",
    "plt.ylabel(\"True Positive Rate\")\n",
    "\n",
    "plt.title(\"ROC-кривая\")\n",
    "\n",
    "plt.show()\n",
    "roc_auc_score(test_answers, probabilities_one_valid)"
   ]
  },
  {
   "cell_type": "code",
   "execution_count": 40,
   "metadata": {
    "scrolled": true
   },
   "outputs": [
    {
     "name": "stdout",
     "output_type": "stream",
     "text": [
      "CPU times: user 2min 39s, sys: 2min 54s, total: 5min 33s\n",
      "Wall time: 5min 34s\n"
     ]
    },
    {
     "data": {
      "text/plain": [
       "{'max_iter': 1000, 'penalty': 'none', 'solver': 'newton-cg'}"
      ]
     },
     "execution_count": 40,
     "metadata": {},
     "output_type": "execute_result"
    }
   ],
   "source": [
    "%%time\n",
    "warnings.filterwarnings(\"ignore\")\n",
    "parametrs = {\"solver\" : ['newton-cg', 'lbfgs', 'liblinear', 'sag', 'saga'],\n",
    "             \"max_iter\": range(1000,2000,100),\n",
    "             \"penalty\": ['l1', 'l2', 'elasticnet', 'none']}\n",
    "model_LR = GridSearchCV(LogisticRegression(random_state=46812,class_weight='balanced'), parametrs)\n",
    "model_LR.fit(train_features, train_answers)\n",
    "model_LR.best_params_"
   ]
  },
  {
   "cell_type": "code",
   "execution_count": 35,
   "metadata": {},
   "outputs": [
    {
     "data": {
      "text/plain": [
       "0.7076875660254356"
      ]
     },
     "execution_count": 35,
     "metadata": {},
     "output_type": "execute_result"
    }
   ],
   "source": [
    "model_LR.best_score_"
   ]
  },
  {
   "cell_type": "code",
   "execution_count": 36,
   "metadata": {},
   "outputs": [
    {
     "data": {
      "text/plain": [
       "0.505066250974279"
      ]
     },
     "execution_count": 36,
     "metadata": {},
     "output_type": "execute_result"
    }
   ],
   "source": [
    "f1_score(test_answers, model_LR.predict(test_features))"
   ]
  },
  {
   "cell_type": "code",
   "execution_count": 37,
   "metadata": {},
   "outputs": [
    {
     "data": {
      "image/png": "[encoded data removed]",
      "text/plain": [
       "<Figure size 432x288 with 1 Axes>"
      ]
     },
     "metadata": {
      "needs_background": "light"
     },
     "output_type": "display_data"
    },
    {
     "data": {
      "text/plain": [
       "0.7842950727257705"
      ]
     },
     "execution_count": 37,
     "metadata": {},
     "output_type": "execute_result"
    }
   ],
   "source": [
    "probabilities_valid = model_LR.predict_proba(test_features)\n",
    "probabilities_one_valid = probabilities_valid[:, 1]\n",
    "\n",
    "fpr, tpr, thresholds = roc_curve(test_answers, probabilities_one_valid) \n",
    "plt.figure()\n",
    "plt.plot(fpr, tpr)\n",
    "\n",
    "plt.plot([0, 1], [0, 1], linestyle='--')\n",
    "\n",
    "plt.xlim([0.0, 1.0])\n",
    "plt.ylim([0.0, 1.0])\n",
    "\n",
    "plt.xlabel(\"False Positive Rate\")\n",
    "plt.ylabel(\"True Positive Rate\")\n",
    "\n",
    "plt.title(\"ROC-кривая\")\n",
    "\n",
    "plt.show()\n",
    "roc_auc_score(test_answers, probabilities_one_valid)"
   ]
  },
  {
   "cell_type": "markdown",
   "metadata": {},
   "source": [
    "### Вывод"
   ]
  },
  {
   "cell_type": "markdown",
   "metadata": {},
   "source": [
    "Лучше всего с этой задачей справился случайный лес показав 0.61 F1 метрики, правильные ответы 0.85 и AUC-ROC 0.87"
   ]
  },
  {
   "cell_type": "markdown",
   "metadata": {},
   "source": [
    "## Вывод"
   ]
  },
  {
   "cell_type": "markdown",
   "metadata": {},
   "source": [
    "Проанализировав данные, выяснил что была пропущена существенная информация о количестве лет клиента в банке, из-за чего пришлось 10% данных выкинуть.\n",
    "\n",
    "Так-же выявилась проблема дисбаланса данных, что достаточно просто решилось применением весов.\n",
    "\n",
    "В итоге получили слуыайны лес с хорошими показтелями и метриками. Случайны лес имел следующие параметры:\n",
    "- 'max_depth': 13,\n",
    "- 'min_samples_leaf': 5,\n",
    "- 'min_samples_split': 2,\n",
    "- 'n_estimators': 90\n",
    "И показал 0.61 F1 метрики, правильные ответы 0.85 и AUC-ROC 0.87"
   ]
  }
 ],
 "metadata": {
  "ExecuteTimeLog": [
   {
    "duration": 414,
    "start_time": "2022-07-27T10:59:08.097Z"
   },
   {
    "duration": 69,
    "start_time": "2022-07-27T10:59:35.968Z"
   },
   {
    "duration": 3,
    "start_time": "2022-07-27T10:59:40.100Z"
   },
   {
    "duration": 7,
    "start_time": "2022-07-27T10:59:41.527Z"
   },
   {
    "duration": 82,
    "start_time": "2022-07-27T10:59:52.831Z"
   },
   {
    "duration": 21,
    "start_time": "2022-07-27T11:00:06.702Z"
   },
   {
    "duration": 11,
    "start_time": "2022-07-27T11:02:23.521Z"
   },
   {
    "duration": 13,
    "start_time": "2022-07-27T11:02:26.665Z"
   },
   {
    "duration": 22,
    "start_time": "2022-07-27T11:03:16.199Z"
   },
   {
    "duration": 6,
    "start_time": "2022-07-27T11:08:54.089Z"
   },
   {
    "duration": 495,
    "start_time": "2022-07-27T11:09:07.800Z"
   },
   {
    "duration": 55,
    "start_time": "2022-07-27T11:09:13.792Z"
   },
   {
    "duration": 7,
    "start_time": "2022-07-27T11:10:22.886Z"
   },
   {
    "duration": 6718,
    "start_time": "2022-07-27T11:10:44.045Z"
   },
   {
    "duration": 23,
    "start_time": "2022-07-27T11:12:21.186Z"
   },
   {
    "duration": 20,
    "start_time": "2022-07-27T11:12:27.561Z"
   },
   {
    "duration": 4,
    "start_time": "2022-07-27T11:12:38.185Z"
   },
   {
    "duration": 12,
    "start_time": "2022-07-27T11:12:45.094Z"
   },
   {
    "duration": 7,
    "start_time": "2022-07-27T11:14:36.316Z"
   },
   {
    "duration": 6,
    "start_time": "2022-07-27T11:14:39.681Z"
   },
   {
    "duration": 1634,
    "start_time": "2022-07-27T11:19:22.142Z"
   },
   {
    "duration": 11,
    "start_time": "2022-07-27T11:22:42.419Z"
   },
   {
    "duration": 499,
    "start_time": "2022-07-27T11:22:48.565Z"
   },
   {
    "duration": 621,
    "start_time": "2022-07-27T11:23:41.564Z"
   },
   {
    "duration": 4,
    "start_time": "2022-07-27T11:28:19.163Z"
   },
   {
    "duration": 65,
    "start_time": "2022-07-27T11:28:30.150Z"
   },
   {
    "duration": 11,
    "start_time": "2022-07-27T11:28:32.750Z"
   },
   {
    "duration": 5,
    "start_time": "2022-07-27T11:29:09.221Z"
   },
   {
    "duration": 11,
    "start_time": "2022-07-27T11:29:10.939Z"
   },
   {
    "duration": 11,
    "start_time": "2022-07-27T11:32:06.996Z"
   },
   {
    "duration": 11,
    "start_time": "2022-07-27T11:32:15.861Z"
   },
   {
    "duration": 711,
    "start_time": "2022-07-27T11:33:46.289Z"
   },
   {
    "duration": 39,
    "start_time": "2022-07-27T11:35:43.397Z"
   },
   {
    "duration": 18,
    "start_time": "2022-07-27T11:37:09.223Z"
   },
   {
    "duration": 22,
    "start_time": "2022-07-27T11:37:36.232Z"
   },
   {
    "duration": 22,
    "start_time": "2022-07-27T11:37:55.295Z"
   },
   {
    "duration": 24,
    "start_time": "2022-07-27T11:38:19.099Z"
   },
   {
    "duration": 60,
    "start_time": "2022-07-27T11:48:25.149Z"
   },
   {
    "duration": 3,
    "start_time": "2022-07-27T11:48:43.876Z"
   },
   {
    "duration": 6,
    "start_time": "2022-07-27T11:50:12.897Z"
   },
   {
    "duration": 17,
    "start_time": "2022-07-27T11:50:46.328Z"
   },
   {
    "duration": 23,
    "start_time": "2022-07-27T11:50:51.496Z"
   },
   {
    "duration": 24,
    "start_time": "2022-07-27T11:51:05.281Z"
   },
   {
    "duration": 7,
    "start_time": "2022-07-27T11:52:20.158Z"
   },
   {
    "duration": 58,
    "start_time": "2022-07-27T11:53:14.677Z"
   },
   {
    "duration": 916405,
    "start_time": "2022-07-27T11:53:24.914Z"
   },
   {
    "duration": 4135,
    "start_time": "2022-07-27T12:31:31.662Z"
   },
   {
    "duration": 346174,
    "start_time": "2022-07-27T12:31:38.573Z"
   },
   {
    "duration": 5,
    "start_time": "2022-07-27T12:38:20.339Z"
   },
   {
    "duration": 13,
    "start_time": "2022-07-27T15:07:07.482Z"
   },
   {
    "duration": 10,
    "start_time": "2022-07-27T15:10:30.323Z"
   },
   {
    "duration": 4,
    "start_time": "2022-07-27T15:10:36.380Z"
   },
   {
    "duration": 15,
    "start_time": "2022-07-27T15:10:39.324Z"
   },
   {
    "duration": 15,
    "start_time": "2022-07-27T15:11:22.217Z"
   },
   {
    "duration": 44,
    "start_time": "2022-07-27T15:12:42.781Z"
   },
   {
    "duration": 510,
    "start_time": "2022-07-27T15:13:20.260Z"
   },
   {
    "duration": 209,
    "start_time": "2022-07-27T15:13:24.373Z"
   },
   {
    "duration": 4,
    "start_time": "2022-07-27T15:14:19.187Z"
   },
   {
    "duration": 49,
    "start_time": "2022-07-27T15:14:43.868Z"
   },
   {
    "duration": 39,
    "start_time": "2022-07-27T15:15:34.952Z"
   },
   {
    "duration": 5,
    "start_time": "2022-07-27T15:19:49.286Z"
   },
   {
    "duration": 38,
    "start_time": "2022-07-27T15:20:21.196Z"
   },
   {
    "duration": 33,
    "start_time": "2022-07-27T15:20:49.324Z"
   },
   {
    "duration": 35,
    "start_time": "2022-07-27T15:20:53.058Z"
   },
   {
    "duration": 6,
    "start_time": "2022-07-27T15:21:28.953Z"
   },
   {
    "duration": 10,
    "start_time": "2022-07-27T15:22:32.631Z"
   },
   {
    "duration": 6,
    "start_time": "2022-07-27T15:22:42.486Z"
   },
   {
    "duration": 13,
    "start_time": "2022-07-27T15:22:58.614Z"
   },
   {
    "duration": 4,
    "start_time": "2022-07-27T15:23:55.691Z"
   },
   {
    "duration": 167117,
    "start_time": "2022-07-27T15:24:04.811Z"
   },
   {
    "duration": 5,
    "start_time": "2022-07-27T15:27:20.660Z"
   },
   {
    "duration": 216,
    "start_time": "2022-07-27T15:27:23.827Z"
   },
   {
    "duration": 63,
    "start_time": "2022-07-27T15:27:31.923Z"
   },
   {
    "duration": 47,
    "start_time": "2022-07-27T15:28:35.313Z"
   },
   {
    "duration": 12,
    "start_time": "2022-07-27T15:30:14.166Z"
   },
   {
    "duration": 15,
    "start_time": "2022-07-27T15:30:21.950Z"
   },
   {
    "duration": 246,
    "start_time": "2022-07-27T15:30:38.773Z"
   },
   {
    "duration": 235,
    "start_time": "2022-07-27T15:30:54.205Z"
   },
   {
    "duration": 3,
    "start_time": "2022-07-27T15:31:08.379Z"
   },
   {
    "duration": 257,
    "start_time": "2022-07-27T15:31:12.042Z"
   },
   {
    "duration": 190,
    "start_time": "2022-07-27T15:31:23.491Z"
   },
   {
    "duration": 171,
    "start_time": "2022-07-27T17:12:27.564Z"
   },
   {
    "duration": 17,
    "start_time": "2022-07-27T17:15:11.965Z"
   },
   {
    "duration": 6,
    "start_time": "2022-07-27T17:15:34.351Z"
   },
   {
    "duration": 158511,
    "start_time": "2022-07-27T17:20:17.953Z"
   },
   {
    "duration": 4,
    "start_time": "2022-07-27T17:23:32.394Z"
   },
   {
    "duration": 163,
    "start_time": "2022-07-27T17:23:35.552Z"
   },
   {
    "duration": 48,
    "start_time": "2022-07-27T17:23:50.150Z"
   },
   {
    "duration": 7,
    "start_time": "2022-07-27T17:36:33.906Z"
   },
   {
    "duration": 6,
    "start_time": "2022-07-27T17:37:33.003Z"
   },
   {
    "duration": 18,
    "start_time": "2022-07-27T17:37:48.995Z"
   },
   {
    "duration": 4,
    "start_time": "2022-07-27T17:38:01.169Z"
   },
   {
    "duration": 10,
    "start_time": "2022-07-27T17:38:05.257Z"
   },
   {
    "duration": 85140,
    "start_time": "2022-07-27T17:38:28.425Z"
   },
   {
    "duration": 206,
    "start_time": "2022-07-27T17:42:33.452Z"
   },
   {
    "duration": 57,
    "start_time": "2022-07-27T17:42:46.442Z"
   },
   {
    "duration": 88699,
    "start_time": "2022-07-27T17:50:08.575Z"
   },
   {
    "duration": 202,
    "start_time": "2022-07-27T17:51:55.921Z"
   },
   {
    "duration": 51,
    "start_time": "2022-07-27T17:51:58.888Z"
   },
   {
    "duration": 398979,
    "start_time": "2022-07-27T17:54:34.769Z"
   },
   {
    "duration": 59,
    "start_time": "2022-07-27T18:02:42.357Z"
   },
   {
    "duration": 734336,
    "start_time": "2022-07-27T18:03:07.978Z"
   },
   {
    "duration": 44,
    "start_time": "2022-07-27T18:16:27.181Z"
   },
   {
    "duration": 4,
    "start_time": "2022-07-27T18:17:16.427Z"
   },
   {
    "duration": 11,
    "start_time": "2022-07-27T18:18:46.486Z"
   },
   {
    "duration": 4,
    "start_time": "2022-07-27T18:19:03.575Z"
   },
   {
    "duration": 0,
    "start_time": "2022-07-27T18:20:53.442Z"
   },
   {
    "duration": 118889,
    "start_time": "2022-07-27T18:20:55.410Z"
   },
   {
    "duration": 14,
    "start_time": "2022-07-27T18:23:41.316Z"
   },
   {
    "duration": 4,
    "start_time": "2022-07-27T18:23:59.043Z"
   },
   {
    "duration": 153,
    "start_time": "2022-07-27T18:26:22.925Z"
   },
   {
    "duration": 302,
    "start_time": "2022-07-27T18:26:38.500Z"
   },
   {
    "duration": 1392,
    "start_time": "2022-07-27T18:31:58.144Z"
   },
   {
    "duration": 71,
    "start_time": "2022-07-27T18:31:59.538Z"
   },
   {
    "duration": 19,
    "start_time": "2022-07-27T18:31:59.612Z"
   },
   {
    "duration": 19,
    "start_time": "2022-07-27T18:31:59.634Z"
   },
   {
    "duration": 27,
    "start_time": "2022-07-27T18:31:59.656Z"
   },
   {
    "duration": 6,
    "start_time": "2022-07-27T18:31:59.698Z"
   },
   {
    "duration": 13,
    "start_time": "2022-07-27T18:31:59.706Z"
   },
   {
    "duration": 5,
    "start_time": "2022-07-27T18:31:59.721Z"
   },
   {
    "duration": 16,
    "start_time": "2022-07-27T18:31:59.728Z"
   },
   {
    "duration": 16,
    "start_time": "2022-07-27T18:31:59.748Z"
   },
   {
    "duration": 40,
    "start_time": "2022-07-27T18:31:59.766Z"
   },
   {
    "duration": 41,
    "start_time": "2022-07-27T18:31:59.809Z"
   },
   {
    "duration": 6,
    "start_time": "2022-07-27T18:31:59.852Z"
   },
   {
    "duration": 54,
    "start_time": "2022-07-27T18:31:59.860Z"
   },
   {
    "duration": 23,
    "start_time": "2022-07-27T18:31:59.916Z"
   },
   {
    "duration": 7,
    "start_time": "2022-07-27T18:31:59.941Z"
   },
   {
    "duration": 161623,
    "start_time": "2022-07-27T18:31:59.950Z"
   },
   {
    "duration": 4,
    "start_time": "2022-07-27T18:34:41.574Z"
   },
   {
    "duration": 64,
    "start_time": "2022-07-27T18:34:41.579Z"
   },
   {
    "duration": 5,
    "start_time": "2022-07-27T18:34:41.645Z"
   },
   {
    "duration": 161101,
    "start_time": "2022-07-27T18:34:41.652Z"
   },
   {
    "duration": 4,
    "start_time": "2022-07-27T18:37:22.755Z"
   },
   {
    "duration": 189,
    "start_time": "2022-07-27T18:37:22.760Z"
   },
   {
    "duration": 61,
    "start_time": "2022-07-27T18:37:22.950Z"
   },
   {
    "duration": 4,
    "start_time": "2022-07-27T18:37:23.013Z"
   },
   {
    "duration": 25,
    "start_time": "2022-07-27T18:37:23.019Z"
   },
   {
    "duration": 87405,
    "start_time": "2022-07-27T18:37:23.045Z"
   },
   {
    "duration": 209,
    "start_time": "2022-07-27T18:38:50.454Z"
   },
   {
    "duration": 62,
    "start_time": "2022-07-27T18:38:50.665Z"
   },
   {
    "duration": 737497,
    "start_time": "2022-07-27T18:38:50.729Z"
   },
   {
    "duration": 3,
    "start_time": "2022-07-27T18:51:08.228Z"
   },
   {
    "duration": 50,
    "start_time": "2022-07-27T18:51:08.232Z"
   },
   {
    "duration": 179,
    "start_time": "2022-07-27T18:51:08.284Z"
   },
   {
    "duration": 176437,
    "start_time": "2022-07-27T18:51:08.465Z"
   },
   {
    "duration": 94,
    "start_time": "2022-07-27T18:54:04.904Z"
   },
   {
    "duration": 13,
    "start_time": "2022-07-27T18:54:05.000Z"
   },
   {
    "duration": 473,
    "start_time": "2022-07-27T18:54:05.015Z"
   },
   {
    "duration": 10,
    "start_time": "2022-07-28T13:08:16.631Z"
   },
   {
    "duration": 4,
    "start_time": "2022-07-28T13:08:25.823Z"
   },
   {
    "duration": 4,
    "start_time": "2022-07-28T13:08:36.416Z"
   },
   {
    "duration": 126,
    "start_time": "2022-07-28T13:09:25.426Z"
   },
   {
    "duration": 56,
    "start_time": "2022-07-28T13:09:32.790Z"
   },
   {
    "duration": 1505,
    "start_time": "2022-07-28T13:10:40.132Z"
   },
   {
    "duration": 4,
    "start_time": "2022-07-28T13:11:06.543Z"
   },
   {
    "duration": 83,
    "start_time": "2022-07-28T13:11:06.549Z"
   },
   {
    "duration": 17,
    "start_time": "2022-07-28T13:11:06.634Z"
   },
   {
    "duration": 12,
    "start_time": "2022-07-28T13:11:06.653Z"
   },
   {
    "duration": 21,
    "start_time": "2022-07-28T13:11:06.667Z"
   },
   {
    "duration": 4,
    "start_time": "2022-07-28T13:11:06.690Z"
   },
   {
    "duration": 31,
    "start_time": "2022-07-28T13:11:06.696Z"
   },
   {
    "duration": 3,
    "start_time": "2022-07-28T13:11:06.729Z"
   },
   {
    "duration": 15,
    "start_time": "2022-07-28T13:11:06.734Z"
   },
   {
    "duration": 13,
    "start_time": "2022-07-28T13:11:06.752Z"
   },
   {
    "duration": 11,
    "start_time": "2022-07-28T13:11:06.766Z"
   },
   {
    "duration": 25,
    "start_time": "2022-07-28T13:11:06.778Z"
   },
   {
    "duration": 21,
    "start_time": "2022-07-28T13:11:06.805Z"
   },
   {
    "duration": 26,
    "start_time": "2022-07-28T13:11:06.828Z"
   },
   {
    "duration": 20,
    "start_time": "2022-07-28T13:11:06.856Z"
   },
   {
    "duration": 5,
    "start_time": "2022-07-28T13:11:06.877Z"
   },
   {
    "duration": 138828,
    "start_time": "2022-07-28T13:11:06.883Z"
   },
   {
    "duration": 11,
    "start_time": "2022-07-28T13:13:25.713Z"
   },
   {
    "duration": 55,
    "start_time": "2022-07-28T13:13:25.725Z"
   },
   {
    "duration": 6,
    "start_time": "2022-07-28T13:13:25.782Z"
   },
   {
    "duration": 135748,
    "start_time": "2022-07-28T13:13:25.789Z"
   },
   {
    "duration": 4,
    "start_time": "2022-07-28T13:15:41.538Z"
   },
   {
    "duration": 181,
    "start_time": "2022-07-28T13:15:41.543Z"
   },
   {
    "duration": 51,
    "start_time": "2022-07-28T13:15:41.726Z"
   },
   {
    "duration": 4,
    "start_time": "2022-07-28T13:15:41.778Z"
   },
   {
    "duration": 16,
    "start_time": "2022-07-28T13:15:41.784Z"
   },
   {
    "duration": 75278,
    "start_time": "2022-07-28T13:15:41.802Z"
   },
   {
    "duration": 191,
    "start_time": "2022-07-28T13:16:57.083Z"
   },
   {
    "duration": 71,
    "start_time": "2022-07-28T13:16:57.276Z"
   },
   {
    "duration": 625733,
    "start_time": "2022-07-28T13:16:57.350Z"
   },
   {
    "duration": 4,
    "start_time": "2022-07-28T13:27:23.086Z"
   },
   {
    "duration": 79,
    "start_time": "2022-07-28T13:27:23.092Z"
   },
   {
    "duration": 192,
    "start_time": "2022-07-28T13:27:23.173Z"
   },
   {
    "duration": 334214,
    "start_time": "2022-07-28T13:30:13.916Z"
   }
  ],
  "kernelspec": {
   "display_name": "Python 3.10.4 64-bit",
   "language": "python",
   "name": "python3"
  },
  "language_info": {
   "codemirror_mode": {
    "name": "ipython",
    "version": 3
   },
   "file_extension": ".py",
   "mimetype": "text/x-python",
   "name": "python",
   "nbconvert_exporter": "python",
   "pygments_lexer": "ipython3",
   "version": "3.10.4"
  },
  "toc": {
   "base_numbering": 1,
   "nav_menu": {},
   "number_sections": true,
   "sideBar": true,
   "skip_h1_title": true,
   "title_cell": "Содержание",
   "title_sidebar": "Contents",
   "toc_cell": true,
   "toc_position": {
    "height": "calc(100% - 180px)",
    "left": "10px",
    "top": "150px",
    "width": "494.391px"
   },
   "toc_section_display": true,
   "toc_window_display": true
  },
  "vscode": {
   "interpreter": {
    "hash": "2469a70536e4d2335a2ea8907942d0699c37342a371ac185bdb5b0aa6f073890"
   }
  }
 },
 "nbformat": 4,
 "nbformat_minor": 2
}
